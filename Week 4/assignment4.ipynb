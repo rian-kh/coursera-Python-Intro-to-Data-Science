{
 "cells": [
  {
   "cell_type": "markdown",
   "metadata": {},
   "source": [
    "# rian-kh, 06/09/23"
   ]
  },
  {
   "cell_type": "markdown",
   "metadata": {
    "deletable": false,
    "editable": false,
    "etc_identifier": "653a3605-5bda-4e1f-beef-04a0173d3f41",
    "nbgrader": {
     "cell_type": "markdown",
     "checksum": "48770f8b5f5d3062d3badd51fcafc401",
     "grade": false,
     "grade_id": "cell-a6c4f74309fc2379",
     "locked": true,
     "schema_version": 3,
     "solution": false
    }
   },
   "source": [
    "# Assignment 4\n",
    "## Description\n",
    "In this assignment you must read in a file of metropolitan regions and associated sports teams from [assets/wikipedia_data.html](assets/wikipedia_data.html) and answer some questions about each metropolitan region. Each of these regions may have one or more teams from the \"Big 4\": NFL (football, in [assets/nfl.csv](assets/nfl.csv)), MLB (baseball, in [assets/mlb.csv](assets/mlb.csv)), NBA (basketball, in [assets/nba.csv](assets/nba.csv) or NHL (hockey, in [assets/nhl.csv](assets/nhl.csv)). Please keep in mind that all questions are from the perspective of the metropolitan region, and that this file is the \"source of authority\" for the location of a given sports team. Thus teams which are commonly known by a different area (e.g. \"Oakland Raiders\") need to be mapped into the metropolitan region given (e.g. San Francisco Bay Area). This will require some human data understanding outside of the data you've been given (e.g. you will have to hand-code some names, and might need to google to find out where teams are)!\n",
    "\n",
    "For each sport I would like you to answer the question: **what is the win/loss ratio's correlation with the population of the city it is in?** Win/Loss ratio refers to the number of wins over the number of wins plus the number of losses. Remember that to calculate the correlation with [`pearsonr`](https://docs.scipy.org/doc/scipy/reference/generated/scipy.stats.pearsonr.html), so you are going to send in two ordered lists of values, the populations from the wikipedia_data.html file and the win/loss ratio for a given sport in the same order. Average the win/loss ratios for those cities which have multiple teams of a single sport. Each sport is worth an equal amount in this assignment (20%\\*4=80%) of the grade for this assignment. You should only use data **from year 2018** for your analysis -- this is important!\n",
    "\n",
    "## Notes\n",
    "\n",
    "1. Do not include data about the MLS or CFL in any of the work you are doing, we're only interested in the Big 4 in this assignment.\n",
    "2. I highly suggest that you first tackle the four correlation questions in order, as they are all similar and worth the majority of grades for this assignment. This is by design!\n",
    "3. It's fair game to talk with peers about high level strategy as well as the relationship between metropolitan areas and sports teams. However, do not post code solving aspects of the assignment (including such as dictionaries mapping areas to teams, or regexes which will clean up names).\n",
    "4. There may be more teams than the assert statements test, remember to collapse multiple teams in one city into a single value!"
   ]
  },
  {
   "cell_type": "markdown",
   "metadata": {
    "deletable": false,
    "editable": false,
    "nbgrader": {
     "cell_type": "markdown",
     "checksum": "369ff9ecf0ee04640574205cbc697f94",
     "grade": false,
     "grade_id": "cell-712b2b5da63d4505",
     "locked": true,
     "schema_version": 3,
     "solution": false
    }
   },
   "source": [
    "## Question 1\n",
    "For this question, calculate the win/loss ratio's correlation with the population of the city it is in for the **NHL** using **2018** data."
   ]
  },
  {
   "cell_type": "code",
   "execution_count": null,
   "metadata": {},
   "outputs": [],
   "source": [
    "%%capture\n",
    "#RUN FIRST, installs a missing library\n",
    "import sys\n",
    "!{sys.executable} -m pip install lxml==4.4.1"
   ]
  },
  {
   "cell_type": "code",
   "execution_count": 262,
   "metadata": {
    "deletable": false,
    "nbgrader": {
     "cell_type": "code",
     "checksum": "1cac4803b02502929f5b1612d48db2b5",
     "grade": false,
     "grade_id": "cell-69b16e4386e58030",
     "locked": false,
     "schema_version": 3,
     "solution": true
    }
   },
   "outputs": [
    {
     "data": {
      "text/plain": [
       "0.012308996455744285"
      ]
     },
     "execution_count": 262,
     "metadata": {},
     "output_type": "execute_result"
    }
   ],
   "source": [
    "import pandas as pd\n",
    "import numpy as np\n",
    "import scipy.stats as stats\n",
    "import re\n",
    "\n",
    "nhl_df=pd.read_csv(\"assets/nhl.csv\")\n",
    "cities=pd.read_html(\"assets/wikipedia_data.html\")[1]\n",
    "cities=cities.iloc[:-1,[0,3,5,6,7,8]]\n",
    "\n",
    "def nhl_correlation(): \n",
    "    \n",
    "    \n",
    "    population_by_region = [] \n",
    "    win_loss_by_region = []\n",
    "\n",
    "    citiesDF = cities[[\"Metropolitan area\", 'Population (2016 est.)[8]', 'NHL']].set_index(\"Metropolitan area\")\n",
    "    nhlDF = nhl_df[['team', 'W', 'L', 'year']].set_index('team')\n",
    "   \n",
    "    \n",
    "    # NHL dataframe: Drop 'division' rows \n",
    "    for index in nhlDF.index.unique():\n",
    "        if index.split(' ')[-1] == 'Division':\n",
    "            nhlDF = nhlDF.drop(index)\n",
    "        \n",
    "    # NHL dataframe: Get rid of asterisks\n",
    "    for index in nhlDF.index:\n",
    "        if index[-1] == '*':\n",
    "            nhlDF = nhlDF.rename({index:index[:index.find('*')]})\n",
    "            \n",
    "    # Set values to floats in both dataframes\n",
    "    nhlDF['W'] = nhlDF['W'].astype('float')\n",
    "    nhlDF['L'] = nhlDF['L'].astype('float')\n",
    "    nhlDF['year'] = nhlDF['year'].astype('float')\n",
    "    citiesDF['Population (2016 est.)[8]'] = citiesDF['Population (2016 est.)[8]'].astype('float')\n",
    "    \n",
    "    # Only get data from 2018\n",
    "    nhlDF = nhlDF[nhlDF['year'] == 2018]\n",
    "    \n",
    "    # Loop through each city\n",
    "    for city in citiesDF.index:\n",
    "        \n",
    "        # Win/Loss sums for all teams in current city\n",
    "        sumWins = 0;\n",
    "        sumLosses = 0;\n",
    "        \n",
    "        \n",
    "        # Loop through each team\n",
    "        for team in nhlDF.index.unique():\n",
    "             \n",
    "            splitName = team.split(' ')\n",
    "            \n",
    "            # Check if the last word of each team matches\n",
    "            # one of the NHL teams for each city, and add\n",
    "            # to win/loss sums per team\n",
    "            if splitName[-1] in citiesDF.loc[city]['NHL']:\n",
    "                sumWins += nhlDF.loc[team]['W'].sum()\n",
    "                sumLosses += nhlDF.loc[team]['L'].sum()\n",
    "            \n",
    "        \n",
    "        # If the current team was a part of a city (losses > 0),\n",
    "        # add to the population the current city's pop. and to the\n",
    "        # win/loss list the current city's ratio\n",
    "        if sumLosses != 0:\n",
    "            population_by_region.append(citiesDF.loc[city]['Population (2016 est.)[8]'])\n",
    "            win_loss_by_region.append(sumWins / (sumWins+sumLosses))\n",
    "            \n",
    "  \n",
    "    \n",
    "    assert len(population_by_region) == len(win_loss_by_region), \"Q1: Your lists must be the same length\"\n",
    "    assert len(population_by_region) == 28, \"Q1: There should be 28 teams being analysed for NHL\"\n",
    "    \n",
    "    return stats.pearsonr(population_by_region, win_loss_by_region)[0]\n",
    "\n",
    "nhl_correlation()"
   ]
  },
  {
   "cell_type": "code",
   "execution_count": null,
   "metadata": {
    "deletable": false,
    "editable": false,
    "nbgrader": {
     "cell_type": "code",
     "checksum": "52a581df513c71153e105b93764cda4b",
     "grade": true,
     "grade_id": "cell-ebe0b2dfe1067e63",
     "locked": true,
     "points": 20,
     "schema_version": 3,
     "solution": false
    }
   },
   "outputs": [],
   "source": []
  },
  {
   "cell_type": "markdown",
   "metadata": {
    "deletable": false,
    "editable": false,
    "nbgrader": {
     "cell_type": "markdown",
     "checksum": "988912cae4968d81473f46d783e79c16",
     "grade": false,
     "grade_id": "cell-cb964e690298b71d",
     "locked": true,
     "schema_version": 3,
     "solution": false
    }
   },
   "source": [
    "## Question 2\n",
    "For this question, calculate the win/loss ratio's correlation with the population of the city it is in for the **NBA** using **2018** data."
   ]
  },
  {
   "cell_type": "code",
   "execution_count": 283,
   "metadata": {
    "deletable": false,
    "nbgrader": {
     "cell_type": "code",
     "checksum": "9394222aafc8ccab0a228098ba0d6010",
     "grade": false,
     "grade_id": "cell-5a5f21279e3d3572",
     "locked": false,
     "schema_version": 3,
     "solution": true
    }
   },
   "outputs": [
    {
     "data": {
      "text/plain": [
       "-0.1765716025284462"
      ]
     },
     "execution_count": 283,
     "metadata": {},
     "output_type": "execute_result"
    }
   ],
   "source": [
    "import pandas as pd\n",
    "import numpy as np\n",
    "import scipy.stats as stats\n",
    "import re\n",
    "\n",
    "nba_df=pd.read_csv(\"assets/nba.csv\")\n",
    "cities=pd.read_html(\"assets/wikipedia_data.html\")[1]\n",
    "cities=cities.iloc[:-1,[0,3,5,6,7,8]]\n",
    "\n",
    "def nba_correlation():\n",
    "    population_by_region = [] \n",
    "    win_loss_by_region = []\n",
    "\n",
    "    citiesDF = cities[[\"Metropolitan area\", 'Population (2016 est.)[8]', 'NBA']].set_index(\"Metropolitan area\")\n",
    "    nbaDF = nba_df[['team', 'W', 'L', 'year']].set_index('team')\n",
    "    \n",
    "    # NBA dataframe: Drop 'division' rows \n",
    "    for index in nbaDF.index.unique():\n",
    "        if index.split(' ')[-1] == 'Division':\n",
    "            nbaDF = nbaDF.drop(index)\n",
    "        \n",
    "\n",
    "    \n",
    "    # NBA dataframe: Get rid of parentheses and asterisks\n",
    "    for index in nbaDF.index:\n",
    "        newIndex = re.sub('(\\*\\s\\(\\d*\\)$)|(\\*$)|(\\s\\(\\d*\\)$)', '', index)\n",
    "        nbaDF = nbaDF.rename({index:newIndex})\n",
    "        \n",
    "    \n",
    "            \n",
    "    # Set values to floats in both dataframes\n",
    "    nbaDF['W'] = nbaDF['W'].astype('float')\n",
    "    nbaDF['L'] = nbaDF['L'].astype('float')\n",
    "    nbaDF['year'] = nbaDF['year'].astype('float')\n",
    "    citiesDF['Population (2016 est.)[8]'] = citiesDF['Population (2016 est.)[8]'].astype('float')\n",
    "    \n",
    "    # Only get data from 2018\n",
    "    nbaDF = nbaDF[nbaDF['year'] == 2018]\n",
    "    \n",
    "    \n",
    "    # Loop through each city\n",
    "    for city in citiesDF.index:\n",
    "        \n",
    "        # Win/Loss sums for all teams in current city\n",
    "        sumWins = 0;\n",
    "        sumLosses = 0;\n",
    "        \n",
    "        \n",
    "        # Loop through each team\n",
    "        for team in nbaDF.index.unique():\n",
    "    \n",
    "            splitName = team.split(' ')\n",
    "            \n",
    "            # Check if the last word of each team matches\n",
    "            # one of the NHL teams for each city, and add\n",
    "            # to win/loss sums per team\n",
    "            if splitName[-1] in citiesDF.loc[city]['NBA']:\n",
    "                sumWins += nbaDF.loc[team]['W'].sum()\n",
    "                sumLosses += nbaDF.loc[team]['L'].sum()\n",
    "        \n",
    "        \n",
    "        # If the current team was a part of a city (losses > 0),\n",
    "        # add to the population the current city's pop. and to the\n",
    "        # win/loss list the current city's ratio\n",
    "        if sumLosses != 0:\n",
    "            population_by_region.append(citiesDF.loc[city]['Population (2016 est.)[8]'])\n",
    "            win_loss_by_region.append(sumWins / (sumWins+sumLosses))\n",
    "\n",
    "    assert len(population_by_region) == len(win_loss_by_region), \"Q2: Your lists must be the same length\"\n",
    "    assert len(population_by_region) == 28, \"Q2: There should be 28 teams being analysed for NBA\"\n",
    "\n",
    "    return stats.pearsonr(population_by_region, win_loss_by_region)[0]\n",
    "\n",
    "nba_correlation()"
   ]
  },
  {
   "cell_type": "code",
   "execution_count": null,
   "metadata": {
    "deletable": false,
    "editable": false,
    "nbgrader": {
     "cell_type": "code",
     "checksum": "bbdeb8eb22f525a34c10dc8798324e42",
     "grade": true,
     "grade_id": "cell-e573b2b4a282b470",
     "locked": true,
     "points": 20,
     "schema_version": 3,
     "solution": false
    }
   },
   "outputs": [],
   "source": []
  },
  {
   "cell_type": "markdown",
   "metadata": {
    "deletable": false,
    "editable": false,
    "nbgrader": {
     "cell_type": "markdown",
     "checksum": "1a1a5809f675ca033086422007cd73bd",
     "grade": false,
     "grade_id": "cell-96e15e4335df78f4",
     "locked": true,
     "schema_version": 3,
     "solution": false
    }
   },
   "source": [
    "## Question 3\n",
    "For this question, calculate the win/loss ratio's correlation with the population of the city it is in for the **MLB** using **2018** data."
   ]
  },
  {
   "cell_type": "code",
   "execution_count": 313,
   "metadata": {
    "deletable": false,
    "nbgrader": {
     "cell_type": "code",
     "checksum": "27e8c0da6c9fa0dffc10488314335b6c",
     "grade": false,
     "grade_id": "cell-33b00fc3f3467b0c",
     "locked": false,
     "schema_version": 3,
     "solution": true
    }
   },
   "outputs": [
    {
     "data": {
      "text/plain": [
       "0.1505230448710485"
      ]
     },
     "execution_count": 313,
     "metadata": {},
     "output_type": "execute_result"
    }
   ],
   "source": [
    "import pandas as pd\n",
    "import numpy as np\n",
    "import scipy.stats as stats\n",
    "import re\n",
    "\n",
    "mlb_df=pd.read_csv(\"assets/mlb.csv\")\n",
    "cities=pd.read_html(\"assets/wikipedia_data.html\")[1]\n",
    "cities=cities.iloc[:-1,[0,3,5,6,7,8]]\n",
    "\n",
    "def mlb_correlation(): \n",
    "    population_by_region = [] \n",
    "    win_loss_by_region = []\n",
    "\n",
    "    citiesDF = cities[[\"Metropolitan area\", 'Population (2016 est.)[8]', 'MLB']].set_index(\"Metropolitan area\")\n",
    "    mlbDF = mlb_df[['team', 'W', 'L', 'year']].set_index('team')\n",
    "       \n",
    "    # Set values to floats in both dataframes\n",
    "    mlbDF['W'] = mlbDF['W'].astype('float')\n",
    "    mlbDF['L'] = mlbDF['L'].astype('float')\n",
    "    mlbDF['year'] = mlbDF['year'].astype('float')\n",
    "    citiesDF['Population (2016 est.)[8]'] = citiesDF['Population (2016 est.)[8]'].astype('float')\n",
    "    \n",
    "    # Only get data from 2018\n",
    "    mlbDF = mlbDF[mlbDF['year'] == 2018]\n",
    "    \n",
    "    # Loop through each city\n",
    "    for city in citiesDF.index:\n",
    "        \n",
    "        # Win/Loss sums for all teams in current city\n",
    "        sumWins = 0;\n",
    "        sumLosses = 0;\n",
    "        \n",
    "        \n",
    "        # Loop through each team\n",
    "        for team in mlbDF.index.unique():\n",
    "    \n",
    "            splitName = team.split(' ')\n",
    "            \n",
    "            \n",
    "            # HARD CODE: This code groups the city-team by \n",
    "            # last word, BUT \"Red Sox\" is Boston while\n",
    "            # \"White Sox\" is Chicago.\n",
    "            \n",
    "            if team == \"Boston Red Sox\" and city == \"Chicago\" or team == \"Chicago White Sox\" and city == \"Boston\":\n",
    "                continue\n",
    "            \n",
    "            \n",
    "            # Check if the last word of each team matches\n",
    "            # one of the NHL teams for each city, and add\n",
    "            # to win/loss sums per team\n",
    "            \n",
    "            if splitName[-1] in citiesDF.loc[city]['MLB']:\n",
    "                sumWins += mlbDF.loc[team]['W'].sum()\n",
    "                sumLosses += mlbDF.loc[team]['L'].sum()\n",
    "        \n",
    "        \n",
    "        # If the current team was a part of a city (losses > 0),\n",
    "        # add to the population the current city's pop. and to the\n",
    "        # win/loss list the current city's ratio\n",
    "        if sumLosses != 0:\n",
    "            population_by_region.append(citiesDF.loc[city]['Population (2016 est.)[8]'])\n",
    "            win_loss_by_region.append(sumWins / (sumWins+sumLosses))            \n",
    "    \n",
    "    \n",
    "    assert len(population_by_region) == len(win_loss_by_region), \"Q3: Your lists must be the same length\"\n",
    "    assert len(population_by_region) == 26, \"Q3: There should be 26 teams being analysed for MLB\"\n",
    "\n",
    "    return stats.pearsonr(population_by_region, win_loss_by_region)[0]\n",
    "\n",
    "mlb_correlation()"
   ]
  },
  {
   "cell_type": "code",
   "execution_count": null,
   "metadata": {
    "deletable": false,
    "editable": false,
    "nbgrader": {
     "cell_type": "code",
     "checksum": "cda33b094ba19ccc37a481e0dd29e0bc",
     "grade": true,
     "grade_id": "cell-764d4476f425c5a2",
     "locked": true,
     "points": 20,
     "schema_version": 3,
     "solution": false
    }
   },
   "outputs": [],
   "source": []
  },
  {
   "cell_type": "markdown",
   "metadata": {
    "deletable": false,
    "editable": false,
    "nbgrader": {
     "cell_type": "markdown",
     "checksum": "6977a6da9ed6d8b7a0b7e37bbeda709b",
     "grade": false,
     "grade_id": "cell-793df6c04dfb126e",
     "locked": true,
     "schema_version": 3,
     "solution": false
    }
   },
   "source": [
    "## Question 4\n",
    "For this question, calculate the win/loss ratio's correlation with the population of the city it is in for the **NFL** using **2018** data."
   ]
  },
  {
   "cell_type": "code",
   "execution_count": 265,
   "metadata": {
    "deletable": false,
    "nbgrader": {
     "cell_type": "code",
     "checksum": "c4914ad1e119278ec2bd567c52640b66",
     "grade": false,
     "grade_id": "cell-8ccebc209aeec8d9",
     "locked": false,
     "schema_version": 3,
     "solution": true
    }
   },
   "outputs": [
    {
     "data": {
      "text/plain": [
       "0.004922112149349414"
      ]
     },
     "execution_count": 265,
     "metadata": {},
     "output_type": "execute_result"
    }
   ],
   "source": [
    "import pandas as pd\n",
    "import numpy as np\n",
    "import scipy.stats as stats\n",
    "import re\n",
    "\n",
    "nfl_df=pd.read_csv(\"assets/nfl.csv\")\n",
    "cities=pd.read_html(\"assets/wikipedia_data.html\")[1]\n",
    "cities=cities.iloc[:-1,[0,3,5,6,7,8]]\n",
    "\n",
    "def nfl_correlation(): \n",
    "    population_by_region = [] \n",
    "    win_loss_by_region = []\n",
    "\n",
    "    citiesDF = cities[[\"Metropolitan area\", 'Population (2016 est.)[8]', 'NFL']].set_index(\"Metropolitan area\")\n",
    "    nflDF = nfl_df[['team', 'W', 'L', 'year']].set_index('team')\n",
    "      \n",
    "    # Get rid of \"___ East/North/etc\" entries (?)\n",
    "    nflDF = nflDF[nflDF['W'].str.isdigit()]\n",
    "    \n",
    "\n",
    "    # NFL dataframe: Get rid of +es and *s\n",
    "    for index in nflDF.index:\n",
    "        newIndex = re.sub('\\W$', '', index)\n",
    "        nflDF = nflDF.rename({index:newIndex})\n",
    "        \n",
    "    # Set values to floats in both dataframes\n",
    "    nflDF['W'] = nflDF['W'].astype('float')\n",
    "    nflDF['L'] = nflDF['L'].astype('float')\n",
    "    nflDF['year'] = nflDF['year'].astype('float')\n",
    "    citiesDF['Population (2016 est.)[8]'] = citiesDF['Population (2016 est.)[8]'].astype('float')\n",
    "    \n",
    "    # Only get data from 2018\n",
    "    nflDF = nflDF[nflDF['year'] == 2018]\n",
    "    \n",
    "    # Loop through each city\n",
    "    for city in citiesDF.index:\n",
    "        \n",
    "        # Win/Loss sums for all teams in current city\n",
    "        sumWins = 0;\n",
    "        sumLosses = 0;\n",
    "        \n",
    "        \n",
    "        # Loop through each team\n",
    "        for team in nflDF.index.unique():\n",
    "    \n",
    "            splitName = team.split(' ')\n",
    "            \n",
    "            # Check if the last word of each team matches\n",
    "            # one of the NHL teams for each city, and add\n",
    "            # to win/loss sums per team\n",
    "            if splitName[-1] in citiesDF.loc[city]['NFL']:\n",
    "                sumWins += nflDF.loc[team]['W'].sum()\n",
    "                sumLosses += nflDF.loc[team]['L'].sum()\n",
    "        \n",
    "        \n",
    "        # If the current team was a part of a city (losses > 0),\n",
    "        # add to the population the current city's pop. and to the\n",
    "        # win/loss list the current city's ratio\n",
    "        if sumLosses != 0:\n",
    "            population_by_region.append(citiesDF.loc[city]['Population (2016 est.)[8]'])\n",
    "            win_loss_by_region.append(sumWins / (sumWins+sumLosses))\n",
    "\n",
    "    assert len(population_by_region) == len(win_loss_by_region), \"Q4: Your lists must be the same length\"\n",
    "    assert len(population_by_region) == 29, \"Q4: There should be 29 teams being analysed for NFL\"\n",
    "\n",
    "    return stats.pearsonr(population_by_region, win_loss_by_region)[0]\n",
    "\n",
    "nfl_correlation()"
   ]
  },
  {
   "cell_type": "code",
   "execution_count": null,
   "metadata": {
    "deletable": false,
    "editable": false,
    "nbgrader": {
     "cell_type": "code",
     "checksum": "e9415d6399aa49e3a1a60813afdefa3b",
     "grade": true,
     "grade_id": "cell-de7b148b9554dbda",
     "locked": true,
     "points": 20,
     "schema_version": 3,
     "solution": false
    }
   },
   "outputs": [],
   "source": []
  },
  {
   "cell_type": "markdown",
   "metadata": {
    "deletable": false,
    "editable": false,
    "nbgrader": {
     "cell_type": "markdown",
     "checksum": "b02d5cd3273f561e4ae939bb2a41740c",
     "grade": false,
     "grade_id": "cell-97b49d8639e908c4",
     "locked": true,
     "schema_version": 3,
     "solution": false
    }
   },
   "source": [
    "## Question 5\n",
    "In this question I would like you to explore the hypothesis that **given that an area has two sports teams in different sports, those teams will perform the same within their respective sports**. How I would like to see this explored is with a series of paired t-tests (so use [`ttest_rel`](https://docs.scipy.org/doc/scipy/reference/generated/scipy.stats.ttest_rel.html)) between all pairs of sports. Are there any sports where we can reject the null hypothesis? Again, average values where a sport has multiple teams in one region. Remember, you will only be including, for each sport, cities which have teams engaged in that sport, drop others as appropriate. This question is worth 20% of the grade for this assignment."
   ]
  },
  {
   "cell_type": "code",
   "execution_count": 229,
   "metadata": {
    "deletable": false,
    "nbgrader": {
     "cell_type": "code",
     "checksum": "6d78c961eb66f8d8c81f06d33ae8f393",
     "grade": false,
     "grade_id": "cell-92f25f44b8d1179f",
     "locked": false,
     "schema_version": 3,
     "solution": true
    }
   },
   "outputs": [
    {
     "name": "stdout",
     "output_type": "stream",
     "text": [
      "     NFL  NBA  NHL  MLB\n",
      "NFL  NaN  NaN  NaN  NaN\n",
      "NBA  NaN  NaN  NaN  NaN\n",
      "NHL  NaN  NaN  NaN  NaN\n",
      "MLB  NaN  NaN  NaN  NaN\n"
     ]
    },
    {
     "ename": "AssertionError",
     "evalue": "The NBA-NHL p-value should be around 0.02",
     "output_type": "error",
     "traceback": [
      "\u001b[0;31m---------------------------------------------------------------------------\u001b[0m",
      "\u001b[0;31mAssertionError\u001b[0m                            Traceback (most recent call last)",
      "Input \u001b[0;32mIn [229]\u001b[0m, in \u001b[0;36m<cell line: 32>\u001b[0;34m()\u001b[0m\n\u001b[1;32m     29\u001b[0m     \u001b[38;5;28;01massert\u001b[39;00m \u001b[38;5;28mabs\u001b[39m(p_values\u001b[38;5;241m.\u001b[39mloc[\u001b[38;5;124m\"\u001b[39m\u001b[38;5;124mMLB\u001b[39m\u001b[38;5;124m\"\u001b[39m, \u001b[38;5;124m\"\u001b[39m\u001b[38;5;124mNFL\u001b[39m\u001b[38;5;124m\"\u001b[39m] \u001b[38;5;241m-\u001b[39m \u001b[38;5;241m0.80\u001b[39m) \u001b[38;5;241m<\u001b[39m\u001b[38;5;241m=\u001b[39m \u001b[38;5;241m1e-2\u001b[39m, \u001b[38;5;124m\"\u001b[39m\u001b[38;5;124mThe MLB-NFL p-value should be around 0.80\u001b[39m\u001b[38;5;124m\"\u001b[39m\n\u001b[1;32m     30\u001b[0m     \u001b[38;5;28;01mreturn\u001b[39;00m p_values\n\u001b[0;32m---> 32\u001b[0m \u001b[43msports_team_performance\u001b[49m\u001b[43m(\u001b[49m\u001b[43m)\u001b[49m\n",
      "Input \u001b[0;32mIn [229]\u001b[0m, in \u001b[0;36msports_team_performance\u001b[0;34m()\u001b[0m\n\u001b[1;32m     24\u001b[0m p_values \u001b[38;5;241m=\u001b[39m pd\u001b[38;5;241m.\u001b[39mDataFrame({k:np\u001b[38;5;241m.\u001b[39mnan \u001b[38;5;28;01mfor\u001b[39;00m k \u001b[38;5;129;01min\u001b[39;00m sports}, index\u001b[38;5;241m=\u001b[39msports)\n\u001b[1;32m     27\u001b[0m \u001b[38;5;28mprint\u001b[39m(p_values)\n\u001b[0;32m---> 28\u001b[0m \u001b[38;5;28;01massert\u001b[39;00m \u001b[38;5;28mabs\u001b[39m(p_values\u001b[38;5;241m.\u001b[39mloc[\u001b[38;5;124m\"\u001b[39m\u001b[38;5;124mNBA\u001b[39m\u001b[38;5;124m\"\u001b[39m, \u001b[38;5;124m\"\u001b[39m\u001b[38;5;124mNHL\u001b[39m\u001b[38;5;124m\"\u001b[39m] \u001b[38;5;241m-\u001b[39m \u001b[38;5;241m0.02\u001b[39m) \u001b[38;5;241m<\u001b[39m\u001b[38;5;241m=\u001b[39m \u001b[38;5;241m1e-2\u001b[39m, \u001b[38;5;124m\"\u001b[39m\u001b[38;5;124mThe NBA-NHL p-value should be around 0.02\u001b[39m\u001b[38;5;124m\"\u001b[39m\n\u001b[1;32m     29\u001b[0m \u001b[38;5;28;01massert\u001b[39;00m \u001b[38;5;28mabs\u001b[39m(p_values\u001b[38;5;241m.\u001b[39mloc[\u001b[38;5;124m\"\u001b[39m\u001b[38;5;124mMLB\u001b[39m\u001b[38;5;124m\"\u001b[39m, \u001b[38;5;124m\"\u001b[39m\u001b[38;5;124mNFL\u001b[39m\u001b[38;5;124m\"\u001b[39m] \u001b[38;5;241m-\u001b[39m \u001b[38;5;241m0.80\u001b[39m) \u001b[38;5;241m<\u001b[39m\u001b[38;5;241m=\u001b[39m \u001b[38;5;241m1e-2\u001b[39m, \u001b[38;5;124m\"\u001b[39m\u001b[38;5;124mThe MLB-NFL p-value should be around 0.80\u001b[39m\u001b[38;5;124m\"\u001b[39m\n\u001b[1;32m     30\u001b[0m \u001b[38;5;28;01mreturn\u001b[39;00m p_values\n",
      "\u001b[0;31mAssertionError\u001b[0m: The NBA-NHL p-value should be around 0.02"
     ]
    }
   ],
   "source": [
    "# INCOMPLETE\n",
    "\n",
    "\n",
    "import pandas as pd\n",
    "import numpy as np\n",
    "import scipy.stats as stats\n",
    "import re\n",
    "\n",
    "mlb_df=pd.read_csv(\"assets/mlb.csv\")\n",
    "nhl_df=pd.read_csv(\"assets/nhl.csv\")\n",
    "nba_df=pd.read_csv(\"assets/nba.csv\")\n",
    "nfl_df=pd.read_csv(\"assets/nfl.csv\")\n",
    "cities=pd.read_html(\"assets/wikipedia_data.html\")[1]\n",
    "cities=cities.iloc[:-1,[0,3,5,6,7,8]]\n",
    "\n",
    "def sports_team_performance():\n",
    "    \n",
    "    # Get win/loss of all cities in a sport as a decimal\n",
    "    # Use cols as the p_value thing\n",
    "    \n",
    "    \n",
    "    \n",
    "    # Note: p_values is a full dataframe, so df.loc[\"NFL\",\"NBA\"] should be the same as df.loc[\"NBA\",\"NFL\"] and\n",
    "    # df.loc[\"NFL\",\"NFL\"] should return np.nan\n",
    "    sports = ['NFL', 'NBA', 'NHL', 'MLB']\n",
    "    p_values = pd.DataFrame({k:np.nan for k in sports}, index=sports)\n",
    "    \n",
    "    \n",
    "    print(p_values)\n",
    "    assert abs(p_values.loc[\"NBA\", \"NHL\"] - 0.02) <= 1e-2, \"The NBA-NHL p-value should be around 0.02\"\n",
    "    assert abs(p_values.loc[\"MLB\", \"NFL\"] - 0.80) <= 1e-2, \"The MLB-NFL p-value should be around 0.80\"\n",
    "    return p_values\n",
    "\n",
    "sports_team_performance()"
   ]
  },
  {
   "cell_type": "code",
   "execution_count": null,
   "metadata": {
    "deletable": false,
    "editable": false,
    "nbgrader": {
     "cell_type": "code",
     "checksum": "2a596ab421a45cc01168d10e8fbb8f89",
     "grade": true,
     "grade_id": "cell-fb4b9cb5ff4570a6",
     "locked": true,
     "points": 20,
     "schema_version": 3,
     "solution": false
    }
   },
   "outputs": [],
   "source": []
  }
 ],
 "metadata": {
  "coursera": {
   "schema_names": [
    "mooc_adswpy_v1_assignment4"
   ]
  },
  "etc_active_cell": 10,
  "kernelspec": {
   "display_name": "Python 3 (ipykernel)",
   "language": "python",
   "name": "python3"
  },
  "language_info": {
   "codemirror_mode": {
    "name": "ipython",
    "version": 3
   },
   "file_extension": ".py",
   "mimetype": "text/x-python",
   "name": "python",
   "nbconvert_exporter": "python",
   "pygments_lexer": "ipython3",
   "version": "3.11.3"
  }
 },
 "nbformat": 4,
 "nbformat_minor": 4
}
